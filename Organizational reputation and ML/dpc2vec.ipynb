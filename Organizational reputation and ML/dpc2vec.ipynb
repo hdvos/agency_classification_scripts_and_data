{
 "cells": [
  {
   "cell_type": "code",
   "execution_count": 3,
   "metadata": {},
   "outputs": [],
   "source": [
    "\n",
    "import os\n",
    "\n",
    "LABELS_JSON_FILENAME = \"labels.json\"\n",
    "DOCUMENTS_DOCX_FOLDER = 'Training Set for Hugo'\n",
    "TEXTFILES_FOLDER = os.path.join(os.getcwd(), 'documents_txt')\n",
    "RAW_DATA_JSON_FILE = 'raw_data.json'\n",
    "PREPROCESSED_JSON_FILE = 'raw_data.json'"
   ]
  },
  {
   "cell_type": "code",
   "execution_count": 4,
   "metadata": {},
   "outputs": [],
   "source": [
    "from csv import DictReader\n",
    "\n",
    "def read_labels(filename:str = \"labels.csv\"):\n",
    "    data = []\n",
    "\n",
    "    with open(filename, 'rt') as f:\n",
    "        reader = DictReader(f, delimiter='\\t')\n",
    "        for line in reader:\n",
    "            data.append(line)\n",
    "            \n",
    "    print(f\"{len(data)} lines loaded\")\n",
    "    return data\n",
    "            \n",
    "def process_labels(labels):\n",
    "    for line in labels:\n",
    "        if not line['Document'].endswith(\".docx\"):\n",
    "            line[\"Document\"] = line[\"Document\"].strip() + \".docx\"\n",
    "        \n",
    "        line['Dimension 1st'] = str(int(line['Dimension 1st']))\n",
    "        line['Dimension 2nd'] = str(int(line['Dimension 2nd']))"
   ]
  },
  {
   "cell_type": "code",
   "execution_count": 5,
   "metadata": {},
   "outputs": [],
   "source": [
    "label_names = {\n",
    "    \"1\": \"Technical\",\n",
    "    \"2\": \"Performative\",\n",
    "    \"3\": \"Procedural\",\n",
    "    \"4\": \"Moral\"\n",
    "}"
   ]
  },
  {
   "cell_type": "code",
   "execution_count": null,
   "metadata": {},
   "outputs": [],
   "source": []
  },
  {
   "cell_type": "code",
   "execution_count": null,
   "metadata": {},
   "outputs": [],
   "source": []
  },
  {
   "cell_type": "code",
   "execution_count": 6,
   "metadata": {},
   "outputs": [
    {
     "name": "stdout",
     "output_type": "stream",
     "text": [
      "1281\n",
      "[{'Document': 'ACER 2019 1.docx', 'Dimension 1st': '1', 'Dimension 2nd': '1', '': ''}, {'Document': 'ACER 2019 2.docx', 'Dimension 1st': '1', 'Dimension 2nd': '2', '': ''}, {'Document': 'ACER 2019 3.docx', 'Dimension 1st': '2', 'Dimension 2nd': '3', '': ''}, {'Document': 'ACER 2019 4.docx', 'Dimension 1st': '1', 'Dimension 2nd': '1', '': ''}, {'Document': 'ACER 2019 5.docx', 'Dimension 1st': '3', 'Dimension 2nd': '3', '': ''}]\n"
     ]
    }
   ],
   "source": [
    "import json\n",
    "\n",
    "with open(LABELS_JSON_FILENAME, 'rt') as f:\n",
    "    labels = json.load(f)\n",
    "    \n",
    "print(len(labels))\n",
    "print(labels[:5])"
   ]
  },
  {
   "cell_type": "code",
   "execution_count": 7,
   "metadata": {},
   "outputs": [
    {
     "data": {
      "application/vnd.jupyter.widget-view+json": {
       "model_id": "6a37e722cac343dabde8ee7a55b7c885",
       "version_major": 2,
       "version_minor": 0
      },
      "text/plain": [
       "HBox(children=(IntProgress(value=0, max=1281), HTML(value='')))"
      ]
     },
     "metadata": {},
     "output_type": "display_data"
    },
    {
     "name": "stdout",
     "output_type": "stream",
     "text": [
      "\n"
     ]
    },
    {
     "ename": "NameError",
     "evalue": "name 'texts' is not defined",
     "output_type": "error",
     "traceback": [
      "\u001b[0;31m---------------------------------------------------------------------------\u001b[0m",
      "\u001b[0;31mNameError\u001b[0m                                 Traceback (most recent call last)",
      "\u001b[0;32m<ipython-input-7-af4c8a4c0586>\u001b[0m in \u001b[0;36m<module>\u001b[0;34m\u001b[0m\n\u001b[1;32m      6\u001b[0m     \u001b[0mlabel_line\u001b[0m\u001b[0;34m[\u001b[0m\u001b[0;34m'id'\u001b[0m\u001b[0;34m]\u001b[0m \u001b[0;34m=\u001b[0m \u001b[0mdocument_id\u001b[0m\u001b[0;34m\u001b[0m\u001b[0;34m\u001b[0m\u001b[0m\n\u001b[1;32m      7\u001b[0m \u001b[0;34m\u001b[0m\u001b[0m\n\u001b[0;32m----> 8\u001b[0;31m     \u001b[0mtext\u001b[0m \u001b[0;34m=\u001b[0m \u001b[0mtexts\u001b[0m\u001b[0;34m[\u001b[0m\u001b[0mdocument_id\u001b[0m\u001b[0;34m]\u001b[0m\u001b[0;34m\u001b[0m\u001b[0;34m\u001b[0m\u001b[0m\n\u001b[0m\u001b[1;32m      9\u001b[0m     \u001b[0mlabel_line\u001b[0m\u001b[0;34m[\u001b[0m\u001b[0;34m'text'\u001b[0m\u001b[0;34m]\u001b[0m \u001b[0;34m=\u001b[0m \u001b[0mtext\u001b[0m\u001b[0;34m\u001b[0m\u001b[0;34m\u001b[0m\u001b[0m\n\u001b[1;32m     10\u001b[0m \u001b[0;34m\u001b[0m\u001b[0m\n",
      "\u001b[0;31mNameError\u001b[0m: name 'texts' is not defined"
     ]
    }
   ],
   "source": [
    "from tqdm import tqdm_notebook\n",
    "\n",
    "for label_line in tqdm_notebook(labels):\n",
    "    document_name = label_line[\"Document\"]\n",
    "    document_id = os.path.splitext(document_name)[0]\n",
    "    label_line['id'] = document_id\n",
    "    \n",
    "    text = texts[document_id]\n",
    "    label_line['text'] = text\n",
    "\n",
    "raw_data = {line['id']: line for line in labels}\n",
    "with open(RAW_DATA_JSON_FILE, 'wt') as out:\n",
    "    json.dump(raw_data, out)"
   ]
  },
  {
   "cell_type": "code",
   "execution_count": null,
   "metadata": {},
   "outputs": [],
   "source": []
  },
  {
   "cell_type": "code",
   "execution_count": null,
   "metadata": {},
   "outputs": [],
   "source": []
  },
  {
   "cell_type": "code",
   "execution_count": null,
   "metadata": {},
   "outputs": [],
   "source": []
  }
 ],
 "metadata": {
  "kernelspec": {
   "display_name": "Python 3",
   "language": "python",
   "name": "python3"
  },
  "language_info": {
   "codemirror_mode": {
    "name": "ipython",
    "version": 3
   },
   "file_extension": ".py",
   "mimetype": "text/x-python",
   "name": "python",
   "nbconvert_exporter": "python",
   "pygments_lexer": "ipython3",
   "version": "3.7.3"
  }
 },
 "nbformat": 4,
 "nbformat_minor": 2
}
